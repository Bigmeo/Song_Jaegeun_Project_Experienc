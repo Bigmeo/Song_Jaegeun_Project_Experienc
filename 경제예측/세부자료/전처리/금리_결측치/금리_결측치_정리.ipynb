{
 "cells": [
  {
   "cell_type": "code",
   "execution_count": 1,
   "id": "ca6db4d8",
   "metadata": {},
   "outputs": [],
   "source": [
    "import pandas as pd"
   ]
  },
  {
   "cell_type": "code",
   "execution_count": 11,
   "id": "3bec5c7f",
   "metadata": {},
   "outputs": [
    {
     "data": {
      "text/html": [
       "<div>\n",
       "<style scoped>\n",
       "    .dataframe tbody tr th:only-of-type {\n",
       "        vertical-align: middle;\n",
       "    }\n",
       "\n",
       "    .dataframe tbody tr th {\n",
       "        vertical-align: top;\n",
       "    }\n",
       "\n",
       "    .dataframe thead th {\n",
       "        text-align: right;\n",
       "    }\n",
       "</style>\n",
       "<table border=\"1\" class=\"dataframe\">\n",
       "  <thead>\n",
       "    <tr style=\"text-align: right;\">\n",
       "      <th></th>\n",
       "      <th>Unnamed: 0</th>\n",
       "      <th>연월</th>\n",
       "      <th>미국_금리(%)</th>\n",
       "      <th>일본_금리(%)</th>\n",
       "      <th>중국_금리(%)</th>\n",
       "      <th>한국_금리(%)</th>\n",
       "    </tr>\n",
       "  </thead>\n",
       "  <tbody>\n",
       "    <tr>\n",
       "      <th>0</th>\n",
       "      <td>0</td>\n",
       "      <td>1995/01</td>\n",
       "      <td>5.5</td>\n",
       "      <td>1.75</td>\n",
       "      <td>12.06</td>\n",
       "      <td>14.01</td>\n",
       "    </tr>\n",
       "  </tbody>\n",
       "</table>\n",
       "</div>"
      ],
      "text/plain": [
       "   Unnamed: 0       연월  미국_금리(%)  일본_금리(%)  중국_금리(%)  한국_금리(%)\n",
       "0           0  1995/01       5.5      1.75     12.06     14.01"
      ]
     },
     "execution_count": 11,
     "metadata": {},
     "output_type": "execute_result"
    }
   ],
   "source": [
    "# 금리 데이터 불러오기\n",
    "df = pd.read_csv('금리_변동일자.csv', encoding = 'ANSI')\n",
    "df.head(1)"
   ]
  },
  {
   "cell_type": "code",
   "execution_count": 12,
   "id": "f33b2d2a",
   "metadata": {},
   "outputs": [
    {
     "data": {
      "text/html": [
       "<div>\n",
       "<style scoped>\n",
       "    .dataframe tbody tr th:only-of-type {\n",
       "        vertical-align: middle;\n",
       "    }\n",
       "\n",
       "    .dataframe tbody tr th {\n",
       "        vertical-align: top;\n",
       "    }\n",
       "\n",
       "    .dataframe thead th {\n",
       "        text-align: right;\n",
       "    }\n",
       "</style>\n",
       "<table border=\"1\" class=\"dataframe\">\n",
       "  <thead>\n",
       "    <tr style=\"text-align: right;\">\n",
       "      <th></th>\n",
       "      <th>연월</th>\n",
       "      <th>미국_금리(%)</th>\n",
       "      <th>일본_금리(%)</th>\n",
       "      <th>중국_금리(%)</th>\n",
       "      <th>한국_금리(%)</th>\n",
       "    </tr>\n",
       "  </thead>\n",
       "  <tbody>\n",
       "    <tr>\n",
       "      <th>0</th>\n",
       "      <td>1995/01</td>\n",
       "      <td>5.5</td>\n",
       "      <td>1.75</td>\n",
       "      <td>12.06</td>\n",
       "      <td>14.01</td>\n",
       "    </tr>\n",
       "  </tbody>\n",
       "</table>\n",
       "</div>"
      ],
      "text/plain": [
       "        연월  미국_금리(%)  일본_금리(%)  중국_금리(%)  한국_금리(%)\n",
       "0  1995/01       5.5      1.75     12.06     14.01"
      ]
     },
     "execution_count": 12,
     "metadata": {},
     "output_type": "execute_result"
    }
   ],
   "source": [
    "# 불필요 칼럼 제거\n",
    "df = df.drop(columns = 'Unnamed: 0')\n",
    "df.head(1)"
   ]
  },
  {
   "cell_type": "code",
   "execution_count": 13,
   "id": "ca42af60",
   "metadata": {},
   "outputs": [
    {
     "name": "stdout",
     "output_type": "stream",
     "text": [
      "<class 'pandas.core.frame.DataFrame'>\n",
      "RangeIndex: 332 entries, 0 to 331\n",
      "Data columns (total 5 columns):\n",
      " #   Column    Non-Null Count  Dtype  \n",
      "---  ------    --------------  -----  \n",
      " 0   연월        332 non-null    object \n",
      " 1   미국_금리(%)  69 non-null     float64\n",
      " 2   일본_금리(%)  12 non-null     float64\n",
      " 3   중국_금리(%)  41 non-null     float64\n",
      " 4   한국_금리(%)  58 non-null     float64\n",
      "dtypes: float64(4), object(1)\n",
      "memory usage: 13.1+ KB\n"
     ]
    }
   ],
   "source": [
    "# 데이터 확인\n",
    "df.info()"
   ]
  },
  {
   "cell_type": "code",
   "execution_count": 14,
   "id": "2f4c78d6",
   "metadata": {},
   "outputs": [
    {
     "data": {
      "text/plain": [
       "연월            0\n",
       "미국_금리(%)    263\n",
       "일본_금리(%)    320\n",
       "중국_금리(%)    291\n",
       "한국_금리(%)    274\n",
       "dtype: int64"
      ]
     },
     "execution_count": 14,
     "metadata": {},
     "output_type": "execute_result"
    }
   ],
   "source": [
    "# 결측데이터 확인\n",
    "df.isna().sum()"
   ]
  },
  {
   "cell_type": "code",
   "execution_count": 15,
   "id": "f93a07f9",
   "metadata": {},
   "outputs": [],
   "source": [
    "# Nan데이터 위의 데이터로 채우기\n",
    "df.fillna(method = 'ffill', inplace = True)"
   ]
  },
  {
   "cell_type": "code",
   "execution_count": 17,
   "id": "59c33440",
   "metadata": {},
   "outputs": [
    {
     "data": {
      "text/plain": [
       "연월          0\n",
       "미국_금리(%)    0\n",
       "일본_금리(%)    0\n",
       "중국_금리(%)    0\n",
       "한국_금리(%)    0\n",
       "dtype: int64"
      ]
     },
     "execution_count": 17,
     "metadata": {},
     "output_type": "execute_result"
    }
   ],
   "source": [
    "df.isna().sum()"
   ]
  },
  {
   "cell_type": "code",
   "execution_count": 18,
   "id": "0697c34e",
   "metadata": {},
   "outputs": [],
   "source": [
    "df.to_csv('금리.csv')"
   ]
  },
  {
   "cell_type": "code",
   "execution_count": null,
   "id": "4822bc21",
   "metadata": {},
   "outputs": [],
   "source": []
  }
 ],
 "metadata": {
  "kernelspec": {
   "display_name": "Python 3 (ipykernel)",
   "language": "python",
   "name": "python3"
  },
  "language_info": {
   "codemirror_mode": {
    "name": "ipython",
    "version": 3
   },
   "file_extension": ".py",
   "mimetype": "text/x-python",
   "name": "python",
   "nbconvert_exporter": "python",
   "pygments_lexer": "ipython3",
   "version": "3.9.12"
  }
 },
 "nbformat": 4,
 "nbformat_minor": 5
}
